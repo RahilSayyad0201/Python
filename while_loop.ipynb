{
 "cells": [
  {
   "cell_type": "markdown",
   "id": "ff303ad4",
   "metadata": {},
   "source": [
    "* Rahil Sayyad\n",
    "* Email Id: rahilsayyad389@gmail.com"
   ]
  },
  {
   "cell_type": "code",
   "execution_count": 2,
   "id": "1f7be097",
   "metadata": {},
   "outputs": [
    {
     "name": "stdout",
     "output_type": "stream",
     "text": [
      "Rahil\n",
      "Rahil\n",
      "Rahil\n",
      "Rahil\n",
      "Rahil\n",
      "Rahil\n",
      "Rahil\n",
      "Rahil\n",
      "Rahil\n"
     ]
    }
   ],
   "source": [
    "# while loop is exicute the loop upto condition is true \n",
    "i=1\n",
    "while i<10:\n",
    "    print(\"Rahil\")\n",
    "    i=i+1"
   ]
  },
  {
   "cell_type": "code",
   "execution_count": 4,
   "id": "c07e73aa",
   "metadata": {},
   "outputs": [
    {
     "name": "stdout",
     "output_type": "stream",
     "text": [
      "1\n",
      "4\n",
      "9\n",
      "16\n",
      "25\n",
      "36\n",
      "49\n",
      "64\n",
      "81\n",
      "100\n"
     ]
    }
   ],
   "source": [
    "#power using while loop\n",
    "i=1\n",
    "while i<11:\n",
    "    print(i**2)\n",
    "    i=i+1"
   ]
  },
  {
   "cell_type": "code",
   "execution_count": 5,
   "id": "1ede385b",
   "metadata": {},
   "outputs": [
    {
     "name": "stdout",
     "output_type": "stream",
     "text": [
      "*\n",
      "**\n",
      "***\n",
      "****\n"
     ]
    }
   ],
   "source": [
    "# star program using while loop\n",
    "i=1\n",
    "while i<5:\n",
    "    j=0\n",
    "    while j<i:\n",
    "        print(\"*\",end=\"\")\n",
    "        j=j+1\n",
    "    print()\n",
    "    i=i+1"
   ]
  },
  {
   "cell_type": "code",
   "execution_count": null,
   "id": "91d640f5",
   "metadata": {},
   "outputs": [],
   "source": []
  }
 ],
 "metadata": {
  "kernelspec": {
   "display_name": "Python 3 (ipykernel)",
   "language": "python",
   "name": "python3"
  },
  "language_info": {
   "codemirror_mode": {
    "name": "ipython",
    "version": 3
   },
   "file_extension": ".py",
   "mimetype": "text/x-python",
   "name": "python",
   "nbconvert_exporter": "python",
   "pygments_lexer": "ipython3",
   "version": "3.9.13"
  }
 },
 "nbformat": 4,
 "nbformat_minor": 5
}
