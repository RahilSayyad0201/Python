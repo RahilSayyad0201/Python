{
 "cells": [
  {
   "cell_type": "markdown",
   "id": "f9f590dd",
   "metadata": {},
   "source": [
    "* Rahil Sayyad\n",
    "* Email Id: rahilsayyad389@gmail.com"
   ]
  },
  {
   "cell_type": "code",
   "execution_count": 1,
   "id": "7bab6d2e",
   "metadata": {},
   "outputs": [
    {
     "name": "stdout",
     "output_type": "stream",
     "text": [
      "enter a number:15\n",
      "you are not eligible\n"
     ]
    }
   ],
   "source": [
    "# if condition\n",
    "num=int(input(\"enter a number:\"))\n",
    "if num >=18:\n",
    "    print(\"you are eligible\")\n",
    "if num < 18:\n",
    "    print(\"you are not eligible\")"
   ]
  },
  {
   "cell_type": "code",
   "execution_count": 2,
   "id": "04f67844",
   "metadata": {},
   "outputs": [
    {
     "name": "stdout",
     "output_type": "stream",
     "text": [
      "Enter your Marks:45\n",
      "Fail\n"
     ]
    }
   ],
   "source": [
    "# if elif else condition\n",
    "Marks=int(input(\"Enter your Marks:\"))\n",
    "if(Marks<=50):\n",
    "    print(\"Fail\")\n",
    "elif(Marks<=65):\n",
    "    print(\"Second Class\")\n",
    "elif(Marks<=80):\n",
    "    print(\"First Class\")\n",
    "else:\n",
    "    print(\"Distinction\")"
   ]
  },
  {
   "cell_type": "code",
   "execution_count": 5,
   "id": "8f9f6f1c",
   "metadata": {},
   "outputs": [
    {
     "name": "stdout",
     "output_type": "stream",
     "text": [
      "21 is not divisible by 5\n"
     ]
    }
   ],
   "source": [
    "# if else condition\n",
    "number = 21\n",
    "if number % 5 == 0:\n",
    "    print(number,\"is divisible by\",5)\n",
    "if number % 5==1:\n",
    "    print(number,\"is not divisible by\",5)"
   ]
  },
  {
   "cell_type": "code",
   "execution_count": 6,
   "id": "b47d464a",
   "metadata": {},
   "outputs": [
    {
     "name": "stdout",
     "output_type": "stream",
     "text": [
      "8 is less than 40\n"
     ]
    }
   ],
   "source": [
    "# nested if else\n",
    "a=8\n",
    "if a > 40:\n",
    "    if a < 60:\n",
    "        print(a, \"lies between 40 and 60\")\n",
    "    else:\n",
    "        print(a, \"is greater than 40 but not less then 60\")\n",
    "else: \n",
    "    print(a,\"is less than 40\")"
   ]
  },
  {
   "cell_type": "markdown",
   "id": "06f115d8",
   "metadata": {},
   "source": [
    "## And\n",
    "**The and keyword is a logical operator, and is used to combine conditional statements:**"
   ]
  },
  {
   "cell_type": "code",
   "execution_count": 8,
   "id": "d90abab4",
   "metadata": {},
   "outputs": [
    {
     "name": "stdout",
     "output_type": "stream",
     "text": [
      "both are not true\n"
     ]
    }
   ],
   "source": [
    "#Example \n",
    "a = 200\n",
    "b = 33\n",
    "c = 5\n",
    "\n",
    "if a > b and c > a:\n",
    "    print(\"Both conditions are True\")\n",
    "else:\n",
    "    print(\"both are not true\")\n"
   ]
  },
  {
   "cell_type": "markdown",
   "id": "7163765c",
   "metadata": {},
   "source": [
    "# Or\n",
    "The or keyword is a logical operator, and is used to combine conditional statements:"
   ]
  },
  {
   "cell_type": "code",
   "execution_count": 9,
   "id": "3477b2f2",
   "metadata": {},
   "outputs": [
    {
     "name": "stdout",
     "output_type": "stream",
     "text": [
      "At least one of the conditions is True\n"
     ]
    }
   ],
   "source": [
    "a = 200\n",
    "b = 33\n",
    "c = 500\n",
    "if a > b or a > c:\n",
    "    print(\"At least one of the conditions is True\")"
   ]
  },
  {
   "cell_type": "code",
   "execution_count": null,
   "id": "c4433741",
   "metadata": {},
   "outputs": [],
   "source": []
  }
 ],
 "metadata": {
  "kernelspec": {
   "display_name": "Python 3 (ipykernel)",
   "language": "python",
   "name": "python3"
  },
  "language_info": {
   "codemirror_mode": {
    "name": "ipython",
    "version": 3
   },
   "file_extension": ".py",
   "mimetype": "text/x-python",
   "name": "python",
   "nbconvert_exporter": "python",
   "pygments_lexer": "ipython3",
   "version": "3.9.13"
  }
 },
 "nbformat": 4,
 "nbformat_minor": 5
}
