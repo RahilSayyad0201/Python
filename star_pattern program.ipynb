{
 "cells": [
  {
   "cell_type": "markdown",
   "id": "c3d7b3c2",
   "metadata": {},
   "source": [
    "* Rahil Sayyad\n",
    "* Email Id: rahilsayyad389@gmail.com"
   ]
  },
  {
   "cell_type": "code",
   "execution_count": null,
   "id": "c0505cef",
   "metadata": {},
   "outputs": [],
   "source": [
    "# star pattern program using for loop\n",
    "#  * \n",
    "#  *  * \n",
    "#  *  *  * \n",
    "#  *  *  *  *"
   ]
  },
  {
   "cell_type": "code",
   "execution_count": 1,
   "id": "76d8b0df",
   "metadata": {},
   "outputs": [
    {
     "name": "stdout",
     "output_type": "stream",
     "text": [
      "\n",
      " * \n",
      " *  * \n",
      " *  *  * \n",
      " *  *  *  * \n"
     ]
    }
   ],
   "source": [
    "for i in range(5):\n",
    "    for j in range(i):\n",
    "        print(\" * \",end=\"\")\n",
    "    print()"
   ]
  },
  {
   "cell_type": "code",
   "execution_count": null,
   "id": "95155fbd",
   "metadata": {},
   "outputs": [],
   "source": [
    "# star pattern program using for loop\n",
    "#  *  *  *  *  *  * \n",
    "#  *  *  *  *  *  * \n",
    "#  *  *  *  *  *  * \n",
    "#  *  *  *  *  *  * \n",
    "#  *  *  *  *  *  * \n",
    "#  *  *  *  *  *  * "
   ]
  },
  {
   "cell_type": "code",
   "execution_count": 2,
   "id": "0aeb3265",
   "metadata": {},
   "outputs": [
    {
     "name": "stdout",
     "output_type": "stream",
     "text": [
      " *  *  *  *  *  * \n",
      " *  *  *  *  *  * \n",
      " *  *  *  *  *  * \n",
      " *  *  *  *  *  * \n",
      " *  *  *  *  *  * \n",
      " *  *  *  *  *  * \n"
     ]
    }
   ],
   "source": [
    "for i in range(6):\n",
    "    for j in range(6):\n",
    "        print(\" * \",end=\"\")\n",
    "    print()"
   ]
  },
  {
   "cell_type": "code",
   "execution_count": null,
   "id": "288c3c32",
   "metadata": {},
   "outputs": [],
   "source": [
    "# star pattern program using for loop\n",
    "#  *  *  *  *  * \n",
    "#  *  *  *  * \n",
    "#  *  *  * \n",
    "#  *  * \n",
    "#  * "
   ]
  },
  {
   "cell_type": "code",
   "execution_count": 3,
   "id": "5adef1b8",
   "metadata": {},
   "outputs": [
    {
     "name": "stdout",
     "output_type": "stream",
     "text": [
      " *  *  *  *  * \n",
      " *  *  *  * \n",
      " *  *  * \n",
      " *  * \n",
      " * \n"
     ]
    }
   ],
   "source": [
    "for i in range(5):\n",
    "    for j in range(5-i):\n",
    "        print(\" * \",end=\"\")\n",
    "    print()"
   ]
  },
  {
   "cell_type": "code",
   "execution_count": null,
   "id": "7275f174",
   "metadata": {},
   "outputs": [],
   "source": [
    "# star pattern program using while loop\n",
    "#  * \n",
    "#  *  * \n",
    "#  *  *  * \n",
    "#  *  *  *  *"
   ]
  },
  {
   "cell_type": "code",
   "execution_count": 4,
   "id": "ab8f4ab2",
   "metadata": {},
   "outputs": [
    {
     "name": "stdout",
     "output_type": "stream",
     "text": [
      "*\n",
      "**\n",
      "***\n",
      "****\n"
     ]
    }
   ],
   "source": [
    "i=1\n",
    "while i<5:\n",
    "    j=0\n",
    "    while j<i:\n",
    "        print(\"*\",end=\"\")\n",
    "        j=j+1\n",
    "    print()\n",
    "    i=i+1"
   ]
  },
  {
   "cell_type": "code",
   "execution_count": null,
   "id": "f9ce7694",
   "metadata": {},
   "outputs": [],
   "source": []
  }
 ],
 "metadata": {
  "kernelspec": {
   "display_name": "Python 3 (ipykernel)",
   "language": "python",
   "name": "python3"
  },
  "language_info": {
   "codemirror_mode": {
    "name": "ipython",
    "version": 3
   },
   "file_extension": ".py",
   "mimetype": "text/x-python",
   "name": "python",
   "nbconvert_exporter": "python",
   "pygments_lexer": "ipython3",
   "version": "3.9.13"
  }
 },
 "nbformat": 4,
 "nbformat_minor": 5
}
