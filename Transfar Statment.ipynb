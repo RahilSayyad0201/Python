{
 "cells": [
  {
   "cell_type": "markdown",
   "id": "f8b52fc4",
   "metadata": {},
   "source": [
    "* Rahil Sayyad\n",
    "* Email Id: rahilsayyad389@gmail.com"
   ]
  },
  {
   "cell_type": "markdown",
   "id": "f81b61bc",
   "metadata": {},
   "source": [
    "## Transfar Statment"
   ]
  },
  {
   "cell_type": "code",
   "execution_count": 1,
   "id": "838b5c1f",
   "metadata": {},
   "outputs": [
    {
     "name": "stdout",
     "output_type": "stream",
     "text": [
      "apple\n",
      "banana\n",
      "cherry\n"
     ]
    }
   ],
   "source": [
    "# break statment is used to stop the loop or condition\n",
    "fruits=[\"apple\",\"banana\",\"cherry\",\"mango\",\"papaya\",\"coconate\",\"orange\",\"stobery\"]\n",
    "for i in fruits:\n",
    "    if i==\"mango\":\n",
    "        break\n",
    "    print(i)"
   ]
  },
  {
   "cell_type": "code",
   "execution_count": 3,
   "id": "eae51780",
   "metadata": {},
   "outputs": [
    {
     "name": "stdout",
     "output_type": "stream",
     "text": [
      "0\n",
      "1\n",
      "2\n",
      "3\n",
      "4\n"
     ]
    }
   ],
   "source": [
    "# break statment is used to stop the flow throw\n",
    "# break exicute based on some condition \n",
    "for i in range(6):\n",
    "    print(i)\n",
    "    if i==4:\n",
    "        break"
   ]
  },
  {
   "cell_type": "code",
   "execution_count": null,
   "id": "4501e578",
   "metadata": {},
   "outputs": [],
   "source": [
    "# continue statment is skip the current iteration and continue next iteration\n",
    "fruits=[\"apple\",\"banana\",\"cherry\",\"mango\",\"papaya\",\"coconate\",\"orange\",\"stobery\"]\n",
    "for i in fruits:\n",
    "    if i==\"mango\":\n",
    "        continue\n",
    "    print(i)"
   ]
  },
  {
   "cell_type": "code",
   "execution_count": null,
   "id": "a7de9d7e",
   "metadata": {},
   "outputs": [],
   "source": []
  }
 ],
 "metadata": {
  "kernelspec": {
   "display_name": "Python 3 (ipykernel)",
   "language": "python",
   "name": "python3"
  },
  "language_info": {
   "codemirror_mode": {
    "name": "ipython",
    "version": 3
   },
   "file_extension": ".py",
   "mimetype": "text/x-python",
   "name": "python",
   "nbconvert_exporter": "python",
   "pygments_lexer": "ipython3",
   "version": "3.9.13"
  }
 },
 "nbformat": 4,
 "nbformat_minor": 5
}
