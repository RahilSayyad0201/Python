{
 "cells": [
  {
   "cell_type": "markdown",
   "id": "373812e1",
   "metadata": {},
   "source": [
    "* Rahil Sayyad\n",
    "* Email Id: rahilsayyad389@gmail.com"
   ]
  },
  {
   "cell_type": "code",
   "execution_count": 1,
   "id": "b904fb29",
   "metadata": {},
   "outputs": [
    {
     "name": "stdout",
     "output_type": "stream",
     "text": [
      "Rahil\n",
      "Rahil\n",
      "Rahil\n",
      "Rahil\n",
      "Rahil\n",
      "Rahil\n",
      "Rahil\n",
      "Rahil\n",
      "Rahil\n",
      "Rahil\n"
     ]
    }
   ],
   "source": [
    "for i in range(10): # for loop in specific range\n",
    "    print(\"Rahil\")"
   ]
  },
  {
   "cell_type": "code",
   "execution_count": 2,
   "id": "9f0f2519",
   "metadata": {},
   "outputs": [
    {
     "name": "stdout",
     "output_type": "stream",
     "text": [
      "0\n",
      "1\n",
      "2\n",
      "3\n",
      "4\n",
      "5\n",
      "6\n",
      "7\n",
      "8\n",
      "9\n"
     ]
    }
   ],
   "source": [
    "# using for loop print a number in specific range\n",
    "num=10\n",
    "for i in range (num):\n",
    "    print(i)"
   ]
  },
  {
   "cell_type": "code",
   "execution_count": 4,
   "id": "c33a159b",
   "metadata": {},
   "outputs": [
    {
     "name": "stdout",
     "output_type": "stream",
     "text": [
      "hi\n",
      "hi\n",
      "hi\n",
      "hi\n",
      "hi\n",
      "hi\n",
      "hi\n",
      "hi\n",
      "hi\n",
      "hi\n"
     ]
    }
   ],
   "source": [
    "# nested for loop\n",
    "for i in range (5):\n",
    "    for j in range (i):\n",
    "        print(\"hi\")"
   ]
  },
  {
   "cell_type": "code",
   "execution_count": 5,
   "id": "c2522ace",
   "metadata": {},
   "outputs": [
    {
     "name": "stdout",
     "output_type": "stream",
     "text": [
      "Odd number: 1\n",
      "Even number: 2\n",
      "Odd number: 3\n",
      "Even number: 4\n",
      "Odd number: 5\n",
      "Even number: 6\n",
      "Odd number: 7\n",
      "Even number: 8\n",
      "Odd number: 9\n",
      "Even number: 10\n",
      "Odd number: 11\n",
      "Even number: 12\n",
      "Odd number: 13\n",
      "Even number: 14\n",
      "Odd number: 15\n",
      "Even number: 16\n",
      "Odd number: 17\n",
      "Even number: 18\n",
      "Odd number: 19\n"
     ]
    }
   ],
   "source": [
    "#using for loop print even and odd number\n",
    "\n",
    "for i in range(1,20):\n",
    "    if i%2==0:\n",
    "        print(\"Even number:\" ,i)\n",
    "    if i%2==1:\n",
    "        print(\"Odd number:\" ,i)"
   ]
  },
  {
   "cell_type": "code",
   "execution_count": 6,
   "id": "d8db2f30",
   "metadata": {},
   "outputs": [
    {
     "name": "stdout",
     "output_type": "stream",
     "text": [
      "\n",
      " * \n",
      " *  * \n",
      " *  *  * \n",
      " *  *  *  * \n"
     ]
    }
   ],
   "source": [
    "# using for loop print star program\n",
    "for i in range(5):\n",
    "    for j in range(i):\n",
    "        print(\" * \",end=\"\")\n",
    "    print()"
   ]
  },
  {
   "cell_type": "code",
   "execution_count": null,
   "id": "bcad410f",
   "metadata": {},
   "outputs": [],
   "source": []
  }
 ],
 "metadata": {
  "kernelspec": {
   "display_name": "Python 3 (ipykernel)",
   "language": "python",
   "name": "python3"
  },
  "language_info": {
   "codemirror_mode": {
    "name": "ipython",
    "version": 3
   },
   "file_extension": ".py",
   "mimetype": "text/x-python",
   "name": "python",
   "nbconvert_exporter": "python",
   "pygments_lexer": "ipython3",
   "version": "3.9.13"
  }
 },
 "nbformat": 4,
 "nbformat_minor": 5
}
